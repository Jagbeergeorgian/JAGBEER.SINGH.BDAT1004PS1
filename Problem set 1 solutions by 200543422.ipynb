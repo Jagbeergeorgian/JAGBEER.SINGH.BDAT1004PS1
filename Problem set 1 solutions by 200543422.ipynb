{
 "cells": [
  {
   "cell_type": "markdown",
   "id": "69dd95b8",
   "metadata": {},
   "source": [
    "# Problem Set 1"
   ]
  },
  {
   "cell_type": "markdown",
   "id": "9fdd0e1e",
   "metadata": {},
   "source": [
    "## Ques 1"
   ]
  },
  {
   "cell_type": "code",
   "execution_count": 2,
   "id": "7254e25a",
   "metadata": {
    "scrolled": true
   },
   "outputs": [
    {
     "name": "stdout",
     "output_type": "stream",
     "text": [
      "<class 'int'>\n",
      "<class 'float'>\n",
      "<class 'bool'>\n",
      "<class 'str'>\n",
      "<class 'int'>\n",
      "<class 'str'>\n",
      "<class 'str'>\n",
      "<class 'float'>\n",
      "<class 'int'>\n",
      "<class 'set'>\n",
      "<class 'bool'>\n",
      "<class 'float'>\n"
     ]
    }
   ],
   "source": [
    "#Ques 1\n",
    "print(type(5));\n",
    "print(type(5.0));\n",
    "print(type(5 > 1));\n",
    "print(type('5'));\n",
    "print(type(5 * 2));\n",
    "print(type('5' * 2));\n",
    "print(type('5' + '2'));\n",
    "print(type(5 / 2));\n",
    "print(type(5 % 2));\n",
    "print(type({5, 2, 1}));\n",
    "print(type(5 == 3));\n",
    "print(type(22/7));\n",
    " "
   ]
  },
  {
   "cell_type": "markdown",
   "id": "d35d924c",
   "metadata": {},
   "source": [
    "## Ques 2"
   ]
  },
  {
   "cell_type": "code",
   "execution_count": 7,
   "id": "799200f7",
   "metadata": {},
   "outputs": [
    {
     "name": "stdout",
     "output_type": "stream",
     "text": [
      "34\n"
     ]
    }
   ],
   "source": [
    "#Ques 2 A\n",
    "string_name = \"Supercalifragilisticexpialidocious\";\n",
    "length=0;\n",
    "for charactr in string_name:\n",
    "    length = length + 1;\n",
    "print(length);"
   ]
  },
  {
   "cell_type": "code",
   "execution_count": 9,
   "id": "b0bac154",
   "metadata": {},
   "outputs": [
    {
     "name": "stdout",
     "output_type": "stream",
     "text": [
      "The substring Exists in the given string\n"
     ]
    }
   ],
   "source": [
    "#Ques 2 B\n",
    "if \"ice\" in \"Supercalifragilisticexpialidocious\":\n",
    "    print(\"The substring Exists in the given string\")\n",
    "else:\n",
    "    print(\"The substring Does not existin the given string\")"
   ]
  },
  {
   "cell_type": "code",
   "execution_count": 12,
   "id": "4828b2e1",
   "metadata": {},
   "outputs": [
    {
     "name": "stdout",
     "output_type": "stream",
     "text": [
      "The largest number is 34 ,and the largest string is Supercalifragilisticexpialidocious\n"
     ]
    }
   ],
   "source": [
    "#Ques 2 C\n",
    "string1 = \"Supercalifragilisticexpialidocious\";\n",
    "string2 = \"Honorificabilitudinitatibus\";\n",
    "string3 = \"Bababadalgharaghtakamminarronnkonn\";\n",
    "len_str1 = len_str2 = len_str3 = 0;\n",
    "for charactr in string1:\n",
    "    len_str1 = len_str1 + 1;\n",
    "\n",
    "for charactr in string2:\n",
    "    len_str2 = len_str2 + 1;\n",
    "\n",
    "for charactr in string3:\n",
    "    len_str3 = len_str3 + 1;\n",
    "    \n",
    "\n",
    "if (len_str1 >= len_str2) and (len_str1 >= len_str3):\n",
    "    largest = len_str1;\n",
    "    largest_str = string1;\n",
    "elif (len_str2 >= len_str1) and (len_str2 >= len_str3):\n",
    "    largest = len_str2;\n",
    "    largest_str = string2;\n",
    "else:\n",
    "    largest = len_str3;\n",
    "    largest_str = string3;\n",
    "\n",
    "print(\"The largest lenght is\", largest, \",and the largest string is\", largest_str);"
   ]
  },
  {
   "cell_type": "code",
   "execution_count": 19,
   "id": "7f3f4562",
   "metadata": {},
   "outputs": [
    {
     "name": "stdout",
     "output_type": "stream",
     "text": [
      "The first composer in dictionary is Bartok , and the last composer in dictionary is Buxtehude\n"
     ]
    }
   ],
   "source": [
    "#Ques 2 D\n",
    "dictionary_list = ['Berlioz', 'Borodin', 'Brian','Bartok', 'Bellini', 'Buxtehude', 'Bernstein'];\n",
    "dictionary_list.sort();\n",
    "first_element = dictionary_list[0];\n",
    "last_element = dictionary_list[-1];\n",
    "print(\"The first composer in dictionary is\", first_element,\", and the last composer in dictionary is\", last_element);"
   ]
  },
  {
   "cell_type": "markdown",
   "id": "f974bde9",
   "metadata": {},
   "source": [
    "## Ques 3"
   ]
  },
  {
   "cell_type": "code",
   "execution_count": 23,
   "id": "e688913d",
   "metadata": {},
   "outputs": [
    {
     "name": "stdout",
     "output_type": "stream",
     "text": [
      "Enter first side: 2\n",
      "Enter second side: 2\n",
      "Enter third side: 2\n",
      "1.7320508075688772\n"
     ]
    }
   ],
   "source": [
    "#Ques 3\n",
    "import math;\n",
    "def trianglearea(side1, side2, side3):\n",
    "    s = (side1 + side2 + side3)/2;\n",
    "    area = math.sqrt(s * (s - side1) * (s - side2) * (s - side2));\n",
    "    print(area);\n",
    "    return 0;\n",
    "\n",
    "side1 = float(input(\"Enter first side: \"));\n",
    "side2 = float(input(\"Enter second side: \"));\n",
    "side3 = float(input(\"Enter third side: \"));\n",
    "\n",
    "trianglearea(side1, side2, side3);\n",
    "    "
   ]
  },
  {
   "cell_type": "markdown",
   "id": "f8c02b16",
   "metadata": {},
   "source": [
    "## Ques 4"
   ]
  },
  {
   "cell_type": "code",
   "execution_count": 30,
   "id": "f9ed64ac",
   "metadata": {},
   "outputs": [
    {
     "name": "stdout",
     "output_type": "stream",
     "text": [
      "Input the number of elements to be stored in the array: 3\n",
      "2\n",
      "4\n",
      "3\n",
      "Your initial array is: [2, 4, 3]\n",
      "even [2, 4]\n",
      "odd [3]\n"
     ]
    }
   ],
   "source": [
    "#Ques 4\n",
    "num_elements = int(input(\"Input the number of elements to be stored in the array: \"));\n",
    "array_list = [];\n",
    "#take array input:\n",
    "for n in range(num_elements):\n",
    "    array_list.append(int(input()));\n",
    "    \n",
    "#print intial array:\n",
    "print(\"Your initial array is:\", array_list);\n",
    "\n",
    "#make even and odd array:\n",
    "even_array = [];\n",
    "odd_array = [];\n",
    "\n",
    "for n in range(num_elements):\n",
    "    if array_list[n] % 2 == 0:\n",
    "        even_array.append(array_list[n]);\n",
    "    else:\n",
    "        odd_array.append(array_list[n]);\n",
    "        \n",
    "print(\"even\", even_array);\n",
    "print(\"odd\", odd_array);\n",
    "\n",
    "\n"
   ]
  },
  {
   "cell_type": "markdown",
   "id": "2addeb9f",
   "metadata": {},
   "source": [
    "## Ques 5"
   ]
  },
  {
   "cell_type": "code",
   "execution_count": 2,
   "id": "9b5e518e",
   "metadata": {},
   "outputs": [
    {
     "name": "stdout",
     "output_type": "stream",
     "text": [
      "Enter X1: 0\n",
      "Enter Y1: 0\n",
      "Enter X2: 2\n",
      "Enter y2: 3\n",
      "Enter X: 1\n",
      "Enter Y: 1\n",
      "the point is inside rectangle\n",
      "Answer 5B\n",
      "The point is outside the rectangle\n",
      "False\n"
     ]
    }
   ],
   "source": [
    "#Ques 5 A\n",
    "#x,y,x1,y1,x2,y2\n",
    "#x>x1 and x<x2 and y>y1 and y<y2\n",
    "\n",
    "def inside(x,y,x1,y1,x2,y2):\n",
    "    if x>x1 and x<x2 and y>y1 and y<y2:\n",
    "        print(\"the point is inside rectangle\");\n",
    "    else:\n",
    "        print(\"The point is outside the rectangle\");\n",
    "        \n",
    "x1=float(input(\"Enter X1: \"));\n",
    "y1=float(input(\"Enter Y1: \"));\n",
    "x2=float(input(\"Enter X2: \"));\n",
    "y2=float(input(\"Enter y2: \"));\n",
    "x=float(input(\"Enter X: \"));\n",
    "y=float(input(\"Enter Y: \"));\n",
    "\n",
    "inside(x,y,x1,y1,x2,y2);\n",
    "print(\"Answer 5B\");\n",
    "#5B\n",
    "if (inside(1,1,0.3,0.5,1.1,0.7)):\n",
    "    if (inside(1,1,0.5,0.2,1.1,2)) :\n",
    "        print(\"True\")\n",
    "else:\n",
    "    print(\"False\")\n"
   ]
  },
  {
   "cell_type": "markdown",
   "id": "0bf75685",
   "metadata": {},
   "source": [
    "### Ques 5B, different approach"
   ]
  },
  {
   "cell_type": "code",
   "execution_count": 39,
   "id": "7b8b9385",
   "metadata": {},
   "outputs": [
    {
     "name": "stdout",
     "output_type": "stream",
     "text": [
      "rectangle 1 points\n",
      "x1: 0.3\n",
      "y1: 0.5\n",
      "x2: 1.1\n",
      "y2: 0.7\n",
      "rectangle 2 points\n",
      "a: 0.5\n",
      "b: 0.2\n",
      "c: 1.1\n",
      "d: 2\n",
      "The point is outside the rectangle\n"
     ]
    }
   ],
   "source": [
    "#Ques 5 B---different_approach\n",
    "def inside(x,y,x1,y1,x2,y2,a,b,c,d):\n",
    "    if x>x1 and x<x2 and y>y1 and y<y2:\n",
    "        if x>a and x<c and y>b and y<d:\n",
    "            print(\"the point is inside rectangle\");\n",
    "    else:\n",
    "        print(\"The point is outside the rectangle\");\n",
    "    \n",
    "#rectangle_1_points\n",
    "print(\"rectangle 1 points\");\n",
    "x1,y1,x2,y2=float(input(\"x1: \")),float(input(\"y1: \")),float(input(\"x2: \")),float(input(\"y2: \"));\n",
    "\n",
    "#rectangle_2_points\n",
    "print(\"rectangle 2 points\");\n",
    "a,b,c,d=float(input(\"a: \")),float(input(\"b: \")),float(input(\"c: \")),float(input(\"d: \"));\n",
    "\n",
    "inside(x,y,x1,y1,x2,y2,a,b,c,d);\n"
   ]
  },
  {
   "cell_type": "markdown",
   "id": "e2f189ba",
   "metadata": {},
   "source": [
    "## Ques 6"
   ]
  },
  {
   "cell_type": "code",
   "execution_count": 46,
   "id": "50374828",
   "metadata": {},
   "outputs": [
    {
     "name": "stdout",
     "output_type": "stream",
     "text": [
      "enter your stringhappy\n",
      "appyhay\n"
     ]
    }
   ],
   "source": [
    "#Ques 6\n",
    "string = input(\"enter your string\");\n",
    "\n",
    "def pig(string):\n",
    "    vowels = \"aeiou\"\n",
    "    if string[0] in vowels:\n",
    "        string = string + \"way\";\n",
    "        print(string);\n",
    "    else:\n",
    "        string = string[1:] + string[0] + \"ay\";\n",
    "        print(string);\n",
    "        \n",
    "pig(string);"
   ]
  },
  {
   "cell_type": "markdown",
   "id": "02f5b678",
   "metadata": {},
   "source": [
    "## Ques 7"
   ]
  },
  {
   "cell_type": "code",
   "execution_count": 51,
   "id": "70bdabd7",
   "metadata": {},
   "outputs": [
    {
     "name": "stdout",
     "output_type": "stream",
     "text": [
      "There are 15 patients of blood type A.\n",
      "There are 1 patients of blood type B.\n",
      "There are 13 patients of blood type AB.\n",
      "There are 15 patients of blood type O.\n",
      "There are 0 patients of blood type OO.\n"
     ]
    }
   ],
   "source": [
    "#Ques 7\n",
    "\n",
    "\n",
    "def bldcount(name):\n",
    "    file = open(name,'r')\n",
    "    list1 = file.readlines()\n",
    "    for i in list1:\n",
    "        bloodType = i.split()\n",
    "        \n",
    "    bloodA = bloodType.count('A')\n",
    "    bloodB = bloodType.count('B')\n",
    "    bloodAB = bloodType.count('AB')\n",
    "    bloodO = bloodType.count('O')\n",
    "    bloodOO = bloodType.count('OO')\n",
    "    print('There are',bloodA,'patients of blood type A.')\n",
    "    print('There are',bloodB,'patients of blood type B.')\n",
    "    print('There are',bloodAB,'patients of blood type AB.')\n",
    "    print('There are',bloodO,'patients of blood type O.')\n",
    "    print('There are',bloodOO,'patients of blood type OO.')\n",
    "    \n",
    "bldcount('bloodtype1.txt');\n",
    "\n"
   ]
  },
  {
   "cell_type": "markdown",
   "id": "369a9194",
   "metadata": {},
   "source": [
    "## Ques 8"
   ]
  },
  {
   "cell_type": "code",
   "execution_count": 47,
   "id": "7cdcca09",
   "metadata": {},
   "outputs": [
    {
     "name": "stdout",
     "output_type": "stream",
     "text": [
      "122.96544\n",
      "1.241401\n"
     ]
    }
   ],
   "source": [
    "#Ques 8\n",
    "def curconv(currency, amount):\n",
    "    conversion_rates = {}\n",
    "    with open(\"currencies.txt\") as f:\n",
    "        for line in f:\n",
    "            parts = line.strip().split(\"\\t\");\n",
    "            conversion_rates[parts[0]] = float(parts[1])\n",
    "    return amount * conversion_rates.get(currency, 1);\n",
    "\n",
    "print(curconv('EUR',100))\n",
    "print(curconv('JPY',100))\n"
   ]
  },
  {
   "cell_type": "markdown",
   "id": "5d741510",
   "metadata": {},
   "source": [
    "## Ques 9 \n",
    "## a. \n",
    "6 +'a'\n",
    "\n",
    "error \"unsupported operand type(s) for +: 'int' and 'str'\""
   ]
  },
  {
   "cell_type": "markdown",
   "id": "14f622b0",
   "metadata": {},
   "source": [
    "## b.\n",
    "\"list = [1,2,3,4,5,6,7,8,9,10]\n",
    "show = list[12]\n",
    "print(show)\"\n",
    "\n",
    "error- list index out of range"
   ]
  },
  {
   "cell_type": "markdown",
   "id": "bdbbf1bb",
   "metadata": {},
   "source": [
    "## c. \n",
    "import math\n",
    "math.sqrt(-1.0)\n",
    "\n",
    "error - \"math domain error\""
   ]
  },
  {
   "cell_type": "markdown",
   "id": "1d4aee15",
   "metadata": {},
   "source": [
    "## d. \n",
    "str = 'Data Programming'\n",
    "print(x)\n",
    "error \"[Errno 2] No such file or directory: 'problemset-1.txt\""
   ]
  },
  {
   "cell_type": "markdown",
   "id": "061d2cde",
   "metadata": {},
   "source": [
    "## e. \n",
    "f = open('problemset-1.txt')\n",
    "error \"[Errno 2] No such file or directory: 'problemset-1.txt'\"\n"
   ]
  },
  {
   "cell_type": "code",
   "execution_count": 10,
   "id": "e2cb6254",
   "metadata": {},
   "outputs": [
    {
     "name": "stdout",
     "output_type": "stream",
     "text": [
      "[1, 1, 1, 3, 5, 1, 1, 2, 1, 0, 1, 0, 1, 2, 4, 0, 1, 2, 0, 3, 1, 0, 1, 1, 0, 0]\n"
     ]
    }
   ],
   "source": [
    "#Ques 10\n",
    "letters=\"abcdefghijklmnopqrstuvwxyz\";\n",
    "\n",
    "def frequencies(string):\n",
    "    freq_list = [0] * 26\n",
    "    for char in string: \n",
    "        if char.lower() in letters :\n",
    "            freq_list[letters.index(char.lower())] = freq_list[letters.index(char.lower())] +1\n",
    "    return freq_list\n",
    "    \n",
    "print(frequencies('The quick red fox got bored and went home.'))"
   ]
  },
  {
   "cell_type": "code",
   "execution_count": null,
   "id": "f52c24f5",
   "metadata": {},
   "outputs": [],
   "source": []
  }
 ],
 "metadata": {
  "kernelspec": {
   "display_name": "Python 3 (ipykernel)",
   "language": "python",
   "name": "python3"
  },
  "language_info": {
   "codemirror_mode": {
    "name": "ipython",
    "version": 3
   },
   "file_extension": ".py",
   "mimetype": "text/x-python",
   "name": "python",
   "nbconvert_exporter": "python",
   "pygments_lexer": "ipython3",
   "version": "3.9.13"
  }
 },
 "nbformat": 4,
 "nbformat_minor": 5
}
